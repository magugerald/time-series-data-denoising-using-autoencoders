{
 "cells": [
  {
   "cell_type": "markdown",
   "id": "f809cbed",
   "metadata": {},
   "source": [
    "# Time Series Data Denoising using Autoencoders\n"
   ]
  },
  {
   "cell_type": "markdown",
   "id": "7f71cdb6",
   "metadata": {},
   "source": [
    "This project centers on employing a Long Short-Term Memory (LSTM) model within an autoencoder framework for denoising time series data. The LSTM's effectiveness in capturing temporal relationships and mitigating gradient vanishing issues is harnessed, particularly valuable for sequences with long-term dependencies, such as time series data. The model's training, spanning 10 epochs, resulted in a loss of 0.00170 and a validation loss of 0.000824. Remarkably, the Mean Squared Error (MSE) reached 0.0029, indicating the autoencoder's success in effectively eliminating noise while maintaining data fidelity. The training process showcases rapid and substantial loss reduction, further substantiating the model's efficacy. Images depicting both original and denoised data affirm the autoencoder's noise reduction capability. In conclusion, the LSTM autoencoder proved proficient in denoising time series data, capitalizing on LSTM's intrinsic strengths in temporal modeling and gradient handling."
   ]
  },
  {
   "cell_type": "code",
   "execution_count": 1,
   "id": "d80b5e5e",
   "metadata": {},
   "outputs": [],
   "source": [
    "# Libraries loading\n",
    "import pandas as pd\n",
    "import numpy as np\n",
    "from tensorflow.keras.layers import Input, Dense, LSTM, RepeatVector\n",
    "from tensorflow.keras.models import Model\n",
    "from sklearn.metrics import mean_squared_error\n",
    "import matplotlib.pyplot as plt"
   ]
  },
  {
   "cell_type": "code",
   "execution_count": 2,
   "id": "9fc99e10",
   "metadata": {},
   "outputs": [],
   "source": [
    "# Loading datasets\n",
    "X_train = pd.read_csv('D:\\\\Python\\\\Datafolder\\\\time-series_data\\\\X_train.csv', header = None)\n",
    "X_test = pd.read_csv('D:\\\\Python\\\\Datafolder\\\\time-series_data\\\\X_test.csv', header = None)\n",
    "X_val = pd.read_csv('D:\\\\Python\\\\Datafolder\\\\time-series_data\\\\X_val.csv', header = None)\n",
    "Y_train = pd.read_csv('D:\\\\Python\\\\Datafolder\\\\time-series_data\\\\Y_train.csv', header = None)\n",
    "Y_test = pd.read_csv('D:\\\\Python\\\\Datafolder\\\\time-series_data\\\\Y_test.csv', header = None)\n",
    "Y_val = pd.read_csv('D:\\\\Python\\\\Datafolder\\\\time-series_data\\\\Y_val.csv', header = None)"
   ]
  },
  {
   "cell_type": "code",
   "execution_count": 3,
   "id": "44127730",
   "metadata": {},
   "outputs": [
    {
     "name": "stdout",
     "output_type": "stream",
     "text": [
      "<class 'pandas.core.frame.DataFrame'>\n",
      "RangeIndex: 20 entries, 1521 to 1540\n",
      "Columns: 331 entries, 0 to 330\n",
      "dtypes: float64(331)\n",
      "memory usage: 51.8 KB\n"
     ]
    }
   ],
   "source": [
    "# Selecting Testing data\n",
    "X_test1 = X_test[1521:1541]\n",
    "X_test1.info()"
   ]
  },
  {
   "cell_type": "code",
   "execution_count": 4,
   "id": "ede44e7b",
   "metadata": {},
   "outputs": [
    {
     "name": "stdout",
     "output_type": "stream",
     "text": [
      "<class 'pandas.core.frame.DataFrame'>\n",
      "RangeIndex: 20 entries, 1521 to 1540\n",
      "Columns: 331 entries, 0 to 330\n",
      "dtypes: float64(331)\n",
      "memory usage: 51.8 KB\n"
     ]
    }
   ],
   "source": [
    "# Selecting Testing data\n",
    "Y_test1 = Y_test[1521:1541]\n",
    "Y_test1.info()"
   ]
  },
  {
   "cell_type": "code",
   "execution_count": 5,
   "id": "8d861455",
   "metadata": {},
   "outputs": [],
   "source": [
    "# Reshaping the data\n",
    "X_train = X_train.values.reshape((X_train.shape[0], 1, X_train.shape[1]))\n",
    "Y_train = Y_train.values.reshape((Y_train.shape[0], 1, Y_train.shape[1]))\n",
    "X_test1 = X_test1.values.reshape((X_test1.shape[0], 1, X_test1.shape[1]))\n",
    "Y_test1 = Y_test1.values.reshape((Y_test1.shape[0], 1, Y_test1.shape[1]))\n",
    "X_val = X_val.values.reshape((X_val.shape[0], 1, X_val.shape[1]))\n",
    "Y_val = Y_val.values.reshape((Y_val.shape[0], 1, Y_val.shape[1]))"
   ]
  },
  {
   "cell_type": "markdown",
   "id": "d75d8a56",
   "metadata": {},
   "source": [
    "### The autoencoder model architecture"
   ]
  },
  {
   "cell_type": "code",
   "execution_count": 6,
   "id": "85450f69",
   "metadata": {},
   "outputs": [],
   "source": [
    "# Define the autoencoder model\n",
    "inputs = Input(shape=(X_train.shape[1], X_train.shape[2]))\n",
    "x = LSTM(64, activation='relu', return_sequences=True)(inputs)\n",
    "x = LSTM(32, activation='relu', return_sequences=False)(x)\n",
    "x = RepeatVector(X_train.shape[1])(x)\n",
    "x = LSTM(32, activation='relu', return_sequences=True)(x)\n",
    "x = LSTM(64, activation='relu', return_sequences=True)(x)\n",
    "outputs = Dense(X_train.shape[2])(x)\n",
    "model = Model(inputs=inputs, outputs=outputs)\n"
   ]
  },
  {
   "cell_type": "markdown",
   "id": "fbcf2ca6",
   "metadata": {},
   "source": [
    "### Model summary"
   ]
  },
  {
   "cell_type": "code",
   "execution_count": 7,
   "id": "ec3cfca7",
   "metadata": {},
   "outputs": [
    {
     "name": "stdout",
     "output_type": "stream",
     "text": [
      "Model: \"model\"\n",
      "_________________________________________________________________\n",
      " Layer (type)                Output Shape              Param #   \n",
      "=================================================================\n",
      " input_1 (InputLayer)        [(None, 1, 331)]          0         \n",
      "                                                                 \n",
      " lstm (LSTM)                 (None, 1, 64)             101376    \n",
      "                                                                 \n",
      " lstm_1 (LSTM)               (None, 32)                12416     \n",
      "                                                                 \n",
      " repeat_vector (RepeatVector  (None, 1, 32)            0         \n",
      " )                                                               \n",
      "                                                                 \n",
      " lstm_2 (LSTM)               (None, 1, 32)             8320      \n",
      "                                                                 \n",
      " lstm_3 (LSTM)               (None, 1, 64)             24832     \n",
      "                                                                 \n",
      " dense (Dense)               (None, 1, 331)            21515     \n",
      "                                                                 \n",
      "=================================================================\n",
      "Total params: 168,459\n",
      "Trainable params: 168,459\n",
      "Non-trainable params: 0\n",
      "_________________________________________________________________\n"
     ]
    }
   ],
   "source": [
    "# model summary\n",
    "model.summary()"
   ]
  },
  {
   "cell_type": "code",
   "execution_count": 8,
   "id": "45edc3a9",
   "metadata": {},
   "outputs": [],
   "source": [
    "# Compiling the model\n",
    "model.compile(optimizer='adam', loss='mse')"
   ]
  },
  {
   "cell_type": "markdown",
   "id": "d117d9d7",
   "metadata": {},
   "source": [
    "### Model training"
   ]
  },
  {
   "cell_type": "code",
   "execution_count": 9,
   "id": "1cd42ede",
   "metadata": {},
   "outputs": [
    {
     "name": "stdout",
     "output_type": "stream",
     "text": [
      "Epoch 1/10\n",
      "147/147 [==============================] - 11s 21ms/step - loss: 0.1122 - val_loss: 0.0020\n",
      "Epoch 2/10\n",
      "147/147 [==============================] - 3s 23ms/step - loss: 0.0026 - val_loss: 0.0018\n",
      "Epoch 3/10\n",
      "147/147 [==============================] - 3s 20ms/step - loss: 0.0025 - val_loss: 0.0016\n",
      "Epoch 4/10\n",
      "147/147 [==============================] - 3s 21ms/step - loss: 0.0025 - val_loss: 0.0028\n",
      "Epoch 5/10\n",
      "147/147 [==============================] - 3s 18ms/step - loss: 0.0023 - val_loss: 0.0013\n",
      "Epoch 6/10\n",
      "147/147 [==============================] - 2s 11ms/step - loss: 0.0019 - val_loss: 0.0023\n",
      "Epoch 7/10\n",
      "147/147 [==============================] - 1s 9ms/step - loss: 0.0018 - val_loss: 8.4697e-04\n",
      "Epoch 8/10\n",
      "147/147 [==============================] - 1s 9ms/step - loss: 0.0018 - val_loss: 8.7396e-04\n",
      "Epoch 9/10\n",
      "147/147 [==============================] - 2s 12ms/step - loss: 0.0018 - val_loss: 8.9470e-04\n",
      "Epoch 10/10\n",
      "147/147 [==============================] - 2s 12ms/step - loss: 0.0017 - val_loss: 8.2445e-04\n"
     ]
    }
   ],
   "source": [
    "# Training the model\n",
    "history = model.fit(X_train, Y_train, epochs=10, batch_size=64, validation_data=(X_val, Y_val))"
   ]
  },
  {
   "cell_type": "code",
   "execution_count": 10,
   "id": "d0038e18",
   "metadata": {},
   "outputs": [
    {
     "name": "stdout",
     "output_type": "stream",
     "text": [
      "1/1 - 0s - loss: 4.3545e-04 - 32ms/epoch - 32ms/step\n"
     ]
    },
    {
     "data": {
      "text/plain": [
       "0.0004354507545940578"
      ]
     },
     "execution_count": 10,
     "metadata": {},
     "output_type": "execute_result"
    }
   ],
   "source": [
    "#Model evaluation\n",
    "model.evaluate(X_test1, Y_test1, verbose=2)"
   ]
  },
  {
   "cell_type": "code",
   "execution_count": 11,
   "id": "382d8cc1",
   "metadata": {},
   "outputs": [
    {
     "data": {
      "image/png": "[encoded data removed]",
      "text/plain": [
       "<Figure size 432x288 with 1 Axes>"
      ]
     },
     "metadata": {
      "needs_background": "light"
     },
     "output_type": "display_data"
    }
   ],
   "source": [
    "# Plotting the training and validation loss\n",
    "plt.plot(history.history['loss'], label='train')\n",
    "plt.plot(history.history['val_loss'], label='test')\n",
    "plt.legend()\n",
    "plt.show()"
   ]
  },
  {
   "cell_type": "code",
   "execution_count": 12,
   "id": "a587dca3",
   "metadata": {},
   "outputs": [],
   "source": [
    "# Using the trained autoencoder to denoise new time-series data\n",
    "denoised_X_test = model.predict(X_test1)"
   ]
  },
  {
   "cell_type": "code",
   "execution_count": 13,
   "id": "2d1c2cf9",
   "metadata": {},
   "outputs": [],
   "source": [
    "# Flattening the 3D array into a 2D array\n",
    "X_test_flat = np.reshape(X_test1, (X_test1.shape[0], -1))\n",
    "denoised_X_test_flat = np.reshape(denoised_X_test, (denoised_X_test.shape[0], -1))"
   ]
  },
  {
   "cell_type": "markdown",
   "id": "8f931f46",
   "metadata": {},
   "source": [
    "### The mean squared error for the model"
   ]
  },
  {
   "cell_type": "code",
   "execution_count": 14,
   "id": "be0f4ed4",
   "metadata": {},
   "outputs": [
    {
     "name": "stdout",
     "output_type": "stream",
     "text": [
      "Mean Squared Error:  0.0028935522475247574\n"
     ]
    }
   ],
   "source": [
    "# Calculating MSE between denoised and original data\n",
    "mse = mean_squared_error(X_test_flat, denoised_X_test_flat)\n",
    "print(\"Mean Squared Error: \", mse)"
   ]
  },
  {
   "cell_type": "markdown",
   "id": "eb511551",
   "metadata": {},
   "source": [
    "### A bar plot showing the original data"
   ]
  },
  {
   "cell_type": "code",
   "execution_count": 19,
   "id": "c93bb6c7",
   "metadata": {},
   "outputs": [
    {
     "data": {
      "image/png": "[encoded data removed]",
      "text/plain": [
       "<Figure size 432x288 with 1 Axes>"
      ]
     },
     "metadata": {
      "needs_background": "light"
     },
     "output_type": "display_data"
    }
   ],
   "source": [
    "# indexing for random sample\n",
    "sample_idx = 10\n",
    "# Getting the originaltime series\n",
    "original_ts = X_test1[sample_idx, 0, :]\n",
    "# Creating a bar plot\n",
    "plt.bar(range(len(original_ts)), original_ts, alpha=0.5, label='Original X_test Data')\n",
    "plt.legend()\n",
    "plt.title('A bar plot showing the original data')\n",
    "plt.show()\n"
   ]
  },
  {
   "cell_type": "markdown",
   "id": "7d5a10be",
   "metadata": {},
   "source": [
    "### A bar plot showing denoised data"
   ]
  },
  {
   "cell_type": "code",
   "execution_count": 20,
   "id": "0b4aee61",
   "metadata": {},
   "outputs": [
    {
     "data": {
      "image/png": "[encoded data removed]",
      "text/plain": [
       "<Figure size 432x288 with 1 Axes>"
      ]
     },
     "metadata": {
      "needs_background": "light"
     },
     "output_type": "display_data"
    }
   ],
   "source": [
    "# indexing for random sample\n",
    "sample_idx = 10\n",
    "# Getting the denoised time series\n",
    "denoised_ts = denoised_X_test[sample_idx, :].flatten()  # reshaping to 1D array\n",
    "# Creating a bar plot\n",
    "plt.bar(range(len(denoised_ts)), denoised_ts, alpha=0.5, label='Denoised X_test Data')\n",
    "plt.legend()\n",
    "plt.title('A bar plot showing the denoised data')\n",
    "plt.show()\n"
   ]
  },
  {
   "cell_type": "markdown",
   "id": "ebec62be",
   "metadata": {},
   "source": [
    "### A Scatter plot showing the original and denoised data"
   ]
  },
  {
   "cell_type": "code",
   "execution_count": 56,
   "id": "fac83f5a",
   "metadata": {},
   "outputs": [
    {
     "data": {
      "image/png": "[encoded data removed]",
      "text/plain": [
       "<Figure size 720x360 with 1 Axes>"
      ]
     },
     "metadata": {
      "needs_background": "light"
     },
     "output_type": "display_data"
    }
   ],
   "source": [
    "# Indexing for random sample\n",
    "sample_idx = 10\n",
    "\n",
    "# Getting the original and denoised time series\n",
    "original_ts = X_test1[sample_idx, 0, :]\n",
    "denoised_ts = denoised_X_test[sample_idx, :].flatten() \n",
    "\n",
    "# Creating a scatter plot\n",
    "plt.figure(figsize=(10, 5))\n",
    "plt.scatter(range(len(original_ts)), original_ts, alpha=0.5, label='Original')\n",
    "plt.scatter(range(len(denoised_ts)), denoised_ts, alpha=0.5, label='Denoised')\n",
    "plt.legend()\n",
    "plt.show()\n"
   ]
  },
  {
   "cell_type": "markdown",
   "id": "e86d98be",
   "metadata": {},
   "source": [
    "## The End"
   ]
  }
 ],
 "metadata": {
  "kernelspec": {
   "display_name": "Python 3 (ipykernel)",
   "language": "python",
   "name": "python3"
  },
  "language_info": {
   "codemirror_mode": {
    "name": "ipython",
    "version": 3
   },
   "file_extension": ".py",
   "mimetype": "text/x-python",
   "name": "python",
   "nbconvert_exporter": "python",
   "pygments_lexer": "ipython3",
   "version": "3.9.7"
  }
 },
 "nbformat": 4,
 "nbformat_minor": 5
}
